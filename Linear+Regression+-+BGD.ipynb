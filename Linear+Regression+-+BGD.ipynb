{
 "cells": [
  {
   "cell_type": "code",
   "execution_count": 166,
   "metadata": {},
   "outputs": [],
   "source": [
    "# Linear Regression using Batch Gradient Descent methods.\n",
    "\n",
    "# Import the libraries\n",
    "import numpy as np\n",
    "import matplotlib.pyplot as plt\n",
    "%matplotlib inline"
   ]
  },
  {
   "cell_type": "code",
   "execution_count": 315,
   "metadata": {},
   "outputs": [],
   "source": [
    "# N - Number of samples\n",
    "# D - Number of features\n",
    "\n",
    "def sample_data_generation(N,D):\n",
    "    np.random.seed(1)\n",
    "    X = np.random.randn(N,D)\n",
    "    y_target = 2 + (3 * X) + np.random.randn(N,1)\n",
    "#   Data split (60%/40%)\n",
    "    t_s = int(X.shape[0] * .6)\n",
    "    tst_s = int(X.shape[0] * .4)\n",
    "    X_train = X[:t_s,:]\n",
    "    y_train = y[:t_s,:]\n",
    "    X_test = X[t_s:,:]\n",
    "    y_test = y[t_s:,:]\n",
    "    X_train_b = np.c_[np.ones((t_s,1)),X_train]  # Adding 1s for the bias term\n",
    "    X_test_b = np.c_[np.ones((tst_s,1)),X_test]\n",
    "    return X_train,X_train_b, y_train,X_test,X_test_b,y_test\n",
    "\n",
    "def weights_initialization(X):\n",
    "    np.random.seed(1)\n",
    "    weights = np.random.randn(X.shape[1],1)\n",
    "    return weights\n",
    "\n",
    "def train_lr(X,y,weights,epochs,learning_rate):\n",
    "    m = X.shape[0]\n",
    "    cost = []\n",
    "    weight_stack = []\n",
    "    error = 0.0\n",
    "    for epoch in range(epochs):\n",
    "        error = np.dot(X,weights) - y\n",
    "        gradients = (2/m) * np.dot(X.T,error)\n",
    "        weights = weights - learning_rate * gradients\n",
    "        loss = (1/m)*(np.sum(error)**2)\n",
    "        cost.append(loss)\n",
    "        weight_stack.append(list(weights[1])) # storing 1 weight parameter for plotting graph.\n",
    "    return weights,cost,weight_stack\n",
    "    "
   ]
  },
  {
   "cell_type": "code",
   "execution_count": 316,
   "metadata": {},
   "outputs": [],
   "source": [
    "X_train,X_train_b,y_train,X_test, X_test_b,y_test = sample_data_generation(100,1)"
   ]
  },
  {
   "cell_type": "code",
   "execution_count": 317,
   "metadata": {},
   "outputs": [
    {
     "data": {
      "image/png": "[encoded data removed]",
      "text/plain": [
       "<matplotlib.figure.Figure at 0x111984940>"
      ]
     },
     "metadata": {},
     "output_type": "display_data"
    }
   ],
   "source": [
    "plt.plot(X_train,y_train,'b.')\n",
    "plt.title(\"Sample data\")\n",
    "plt.xlabel(\"Independent Variable\")\n",
    "plt.ylabel(\"Dependent Variable\")\n",
    "plt.show()"
   ]
  },
  {
   "cell_type": "code",
   "execution_count": 318,
   "metadata": {},
   "outputs": [],
   "source": [
    "w = weights_initialization(X_train_b)"
   ]
  },
  {
   "cell_type": "code",
   "execution_count": 319,
   "metadata": {},
   "outputs": [],
   "source": [
    "weights,cost,weight_s = train_lr(X_train_b,y_train,w,100,0.1)"
   ]
  },
  {
   "cell_type": "code",
   "execution_count": 320,
   "metadata": {},
   "outputs": [
    {
     "data": {
      "image/png": "[encoded data removed]",
      "text/plain": [
       "<matplotlib.figure.Figure at 0x10556b828>"
      ]
     },
     "metadata": {},
     "output_type": "display_data"
    }
   ],
   "source": [
    "plt.plot(weight_s,cost,'b.')\n",
    "plt.title(\"Minising cost using BGD\")\n",
    "plt.xlabel('W')\n",
    "plt.ylabel(\"Cost\")\n",
    "plt.show()"
   ]
  },
  {
   "cell_type": "code",
   "execution_count": 324,
   "metadata": {},
   "outputs": [
    {
     "data": {
      "text/plain": [
       "array([[2.0617692 ],\n",
       "       [2.97743862]])"
      ]
     },
     "execution_count": 324,
     "metadata": {},
     "output_type": "execute_result"
    }
   ],
   "source": [
    "weights"
   ]
  },
  {
   "cell_type": "code",
   "execution_count": 322,
   "metadata": {},
   "outputs": [],
   "source": [
    "y_predict = np.dot(X_test_b,weights)"
   ]
  },
  {
   "cell_type": "code",
   "execution_count": 323,
   "metadata": {},
   "outputs": [
    {
     "data": {
      "image/png": "[encoded data removed]",
      "text/plain": [
       "<matplotlib.figure.Figure at 0x111974d68>"
      ]
     },
     "metadata": {},
     "output_type": "display_data"
    }
   ],
   "source": [
    "plt.plot(X_train,y_train,'b.')\n",
    "plt.plot(X_test,y_predict,'r-',)\n",
    "# plt.axis([0,1,0,10])\n",
    "plt.show()"
   ]
  },
  {
   "cell_type": "code",
   "execution_count": null,
   "metadata": {},
   "outputs": [],
   "source": []
  }
 ],
 "metadata": {
  "kernelspec": {
   "display_name": "Python 3",
   "language": "python",
   "name": "python3"
  },
  "language_info": {
   "codemirror_mode": {
    "name": "ipython",
    "version": 3
   },
   "file_extension": ".py",
   "mimetype": "text/x-python",
   "name": "python",
   "nbconvert_exporter": "python",
   "pygments_lexer": "ipython3",
   "version": "3.5.1"
  }
 },
 "nbformat": 4,
 "nbformat_minor": 2
}
